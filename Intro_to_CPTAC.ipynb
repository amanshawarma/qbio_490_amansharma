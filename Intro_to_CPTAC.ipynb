{
 "cells": [
  {
   "cell_type": "markdown",
   "id": "9f3b6a87",
   "metadata": {},
   "source": [
    "# Introduction to CPTAC and Proteomics\n",
    "\n",
    "This document will take you through the basics of CPTAC and analyzing proteomic data in python. Let's get started!"
   ]
  },
  {
   "cell_type": "markdown",
   "id": "64ad08b5",
   "metadata": {},
   "source": [
    "## Setting up your working directory\n",
    "\n",
    "Set your working directory to your analysis_data folder."
   ]
  },
  {
   "cell_type": "code",
   "execution_count": 2,
   "id": "a53acaad",
   "metadata": {},
   "outputs": [],
   "source": [
    "import os\n",
    "\n",
    "os.chdir('/Users/amansharma/Desktop/QBIO490/qbio_490_amansharma/analysis_data')"
   ]
  },
  {
   "cell_type": "markdown",
   "id": "bcf734ad",
   "metadata": {},
   "source": [
    "### Start exploring CPTAC with `cptac`\n",
    "Similar to TCGAbiolinks, we need to load the package and download the data before using.\n",
    "1. Import the package (`cptac`).\n",
    "2. Look at the data sets available to us with the list_datasets() function. As a reminder, remember the package_name.method() syntax!\n",
    "3. Download the cancer you'll be working with. \n",
    "4. Load it into our python environment."
   ]
  },
  {
   "cell_type": "code",
   "execution_count": 3,
   "id": "3274cad7",
   "metadata": {},
   "outputs": [
    {
     "name": "stderr",
     "output_type": "stream",
     "text": [
      "cptac warning: Your version of cptac (1.1.2) is out-of-date. Latest is 1.5.13. Please run 'pip install --upgrade cptac' to update it. (/Users/amansharma/miniforge3/envs/qbio_490_amansharma/lib/python3.9/threading.py, line 917)\n"
     ]
    },
    {
     "data": {
      "text/html": [
       "<div>\n",
       "<style scoped>\n",
       "    .dataframe tbody tr th:only-of-type {\n",
       "        vertical-align: middle;\n",
       "    }\n",
       "\n",
       "    .dataframe tbody tr th {\n",
       "        vertical-align: top;\n",
       "    }\n",
       "\n",
       "    .dataframe thead th {\n",
       "        text-align: right;\n",
       "    }\n",
       "</style>\n",
       "<table border=\"1\" class=\"dataframe\">\n",
       "  <thead>\n",
       "    <tr style=\"text-align: right;\">\n",
       "      <th></th>\n",
       "      <th>Description</th>\n",
       "      <th>Data reuse status</th>\n",
       "      <th>Publication link</th>\n",
       "    </tr>\n",
       "    <tr>\n",
       "      <th>Dataset name</th>\n",
       "      <th></th>\n",
       "      <th></th>\n",
       "      <th></th>\n",
       "    </tr>\n",
       "  </thead>\n",
       "  <tbody>\n",
       "    <tr>\n",
       "      <th>Brca</th>\n",
       "      <td>breast cancer</td>\n",
       "      <td>no restrictions</td>\n",
       "      <td>https://pubmed.ncbi.nlm.nih.gov/33212010/</td>\n",
       "    </tr>\n",
       "    <tr>\n",
       "      <th>Ccrcc</th>\n",
       "      <td>clear cell renal cell carcinoma (kidney)</td>\n",
       "      <td>no restrictions</td>\n",
       "      <td>https://pubmed.ncbi.nlm.nih.gov/31675502/</td>\n",
       "    </tr>\n",
       "    <tr>\n",
       "      <th>Colon</th>\n",
       "      <td>colorectal cancer</td>\n",
       "      <td>no restrictions</td>\n",
       "      <td>https://pubmed.ncbi.nlm.nih.gov/31031003/</td>\n",
       "    </tr>\n",
       "    <tr>\n",
       "      <th>Endometrial</th>\n",
       "      <td>endometrial carcinoma (uterine)</td>\n",
       "      <td>no restrictions</td>\n",
       "      <td>https://pubmed.ncbi.nlm.nih.gov/32059776/</td>\n",
       "    </tr>\n",
       "    <tr>\n",
       "      <th>Gbm</th>\n",
       "      <td>glioblastoma</td>\n",
       "      <td>no restrictions</td>\n",
       "      <td>https://pubmed.ncbi.nlm.nih.gov/33577785/</td>\n",
       "    </tr>\n",
       "    <tr>\n",
       "      <th>Hnscc</th>\n",
       "      <td>head and neck squamous cell carcinoma</td>\n",
       "      <td>no restrictions</td>\n",
       "      <td>https://pubmed.ncbi.nlm.nih.gov/33417831/</td>\n",
       "    </tr>\n",
       "    <tr>\n",
       "      <th>Lscc</th>\n",
       "      <td>lung squamous cell carcinoma</td>\n",
       "      <td>no restrictions</td>\n",
       "      <td>https://pubmed.ncbi.nlm.nih.gov/34358469/</td>\n",
       "    </tr>\n",
       "    <tr>\n",
       "      <th>Luad</th>\n",
       "      <td>lung adenocarcinoma</td>\n",
       "      <td>no restrictions</td>\n",
       "      <td>https://pubmed.ncbi.nlm.nih.gov/32649874/</td>\n",
       "    </tr>\n",
       "    <tr>\n",
       "      <th>Ovarian</th>\n",
       "      <td>high grade serous ovarian cancer</td>\n",
       "      <td>no restrictions</td>\n",
       "      <td>https://pubmed.ncbi.nlm.nih.gov/27372738/</td>\n",
       "    </tr>\n",
       "    <tr>\n",
       "      <th>Pdac</th>\n",
       "      <td>pancreatic ductal adenocarcinoma</td>\n",
       "      <td>no restrictions</td>\n",
       "      <td>https://pubmed.ncbi.nlm.nih.gov/34534465/</td>\n",
       "    </tr>\n",
       "    <tr>\n",
       "      <th>UcecConf</th>\n",
       "      <td>endometrial confirmatory carcinoma</td>\n",
       "      <td>password access only</td>\n",
       "      <td>unpublished</td>\n",
       "    </tr>\n",
       "    <tr>\n",
       "      <th>GbmConf</th>\n",
       "      <td>glioblastoma confirmatory</td>\n",
       "      <td>password access only</td>\n",
       "      <td>unpublished</td>\n",
       "    </tr>\n",
       "  </tbody>\n",
       "</table>\n",
       "</div>"
      ],
      "text/plain": [
       "                                           Description     Data reuse status  \\\n",
       "Dataset name                                                                   \n",
       "Brca                                     breast cancer       no restrictions   \n",
       "Ccrcc         clear cell renal cell carcinoma (kidney)       no restrictions   \n",
       "Colon                                colorectal cancer       no restrictions   \n",
       "Endometrial            endometrial carcinoma (uterine)       no restrictions   \n",
       "Gbm                                       glioblastoma       no restrictions   \n",
       "Hnscc            head and neck squamous cell carcinoma       no restrictions   \n",
       "Lscc                      lung squamous cell carcinoma       no restrictions   \n",
       "Luad                               lung adenocarcinoma       no restrictions   \n",
       "Ovarian               high grade serous ovarian cancer       no restrictions   \n",
       "Pdac                  pancreatic ductal adenocarcinoma       no restrictions   \n",
       "UcecConf            endometrial confirmatory carcinoma  password access only   \n",
       "GbmConf                      glioblastoma confirmatory  password access only   \n",
       "\n",
       "                                       Publication link  \n",
       "Dataset name                                             \n",
       "Brca          https://pubmed.ncbi.nlm.nih.gov/33212010/  \n",
       "Ccrcc         https://pubmed.ncbi.nlm.nih.gov/31675502/  \n",
       "Colon         https://pubmed.ncbi.nlm.nih.gov/31031003/  \n",
       "Endometrial   https://pubmed.ncbi.nlm.nih.gov/32059776/  \n",
       "Gbm           https://pubmed.ncbi.nlm.nih.gov/33577785/  \n",
       "Hnscc         https://pubmed.ncbi.nlm.nih.gov/33417831/  \n",
       "Lscc          https://pubmed.ncbi.nlm.nih.gov/34358469/  \n",
       "Luad          https://pubmed.ncbi.nlm.nih.gov/32649874/  \n",
       "Ovarian       https://pubmed.ncbi.nlm.nih.gov/27372738/  \n",
       "Pdac          https://pubmed.ncbi.nlm.nih.gov/34534465/  \n",
       "UcecConf                                    unpublished  \n",
       "GbmConf                                     unpublished  "
      ]
     },
     "execution_count": 3,
     "metadata": {},
     "output_type": "execute_result"
    }
   ],
   "source": [
    "# 1. Import cptac\n",
    "import cptac\n",
    "\n",
    "\n",
    "# 2. Examine the data sets available with list_datasets()\n",
    "cptac.list_datasets()"
   ]
  },
  {
   "cell_type": "code",
   "execution_count": 4,
   "id": "aeb53aa2",
   "metadata": {},
   "outputs": [
    {
     "name": "stdout",
     "output_type": "stream",
     "text": [
      "                                         \r"
     ]
    }
   ],
   "source": [
    "# 3. Download the cancer data set -- fill in dataset!\n",
    "cptac.download(dataset=\"Brca\")\n",
    "\n",
    "# 4. Load the cancer data\n",
    "# ie. brca = cptac.Brca()\n",
    "brca = cptac.Brca()"
   ]
  },
  {
   "cell_type": "markdown",
   "id": "fadf54d4",
   "metadata": {},
   "source": [
    "Now, we have our object containing a bunch of data. We can use the list_data() function the data available for the cancer dataset.\n",
    "<br></br>\n",
    "In addition to the proteomics data, we can also accesss the accompanying transcriptomics, CNV, etc. using this object. We will focus on the omics which we have already seen for this course; however, other data present in this dataset are also pretty interesting. Finally, many proteins can't be identified very well, so they won't appear as a column (for example, APC isn't in the proteomics data set).\n",
    "<br></br>\n",
    "**Exercise 1.1** Call the list_data() function from the object to examine the different data contained in the object. Much like calling functions from a package, we can use the cancer.function() syntax.\n",
    "\n",
    "* How many patients do you think there are in this dataset? (Make an educated guess about this from the dimensions - we'll confirm your answer later on)"
   ]
  },
  {
   "cell_type": "code",
   "execution_count": 5,
   "id": "f96afeaf",
   "metadata": {},
   "outputs": [
    {
     "name": "stdout",
     "output_type": "stream",
     "text": [
      "Below are the dataframes contained in this dataset and their dimensions:\n",
      "\n",
      "acetylproteomics\n",
      "\t122 rows\n",
      "\t9868 columns\n",
      "clinical\n",
      "\t122 rows\n",
      "\t18 columns\n",
      "CNV\n",
      "\t122 rows\n",
      "\t23692 columns\n",
      "derived_molecular\n",
      "\t122 rows\n",
      "\t36 columns\n",
      "phosphoproteomics\n",
      "\t122 rows\n",
      "\t38775 columns\n",
      "proteomics\n",
      "\t122 rows\n",
      "\t10107 columns\n",
      "somatic_mutation\n",
      "\t24106 rows\n",
      "\t3 columns\n",
      "transcriptomics\n",
      "\t122 rows\n",
      "\t23121 columns\n"
     ]
    }
   ],
   "source": [
    "# Run the list_data() function\n",
    "brca.list_data()"
   ]
  },
  {
   "cell_type": "markdown",
   "id": "ab6034bd",
   "metadata": {},
   "source": [
    "**Exercise 1.2** Use the get_proteomics() function to store the proteomics data into a new data frame."
   ]
  },
  {
   "cell_type": "code",
   "execution_count": 6,
   "id": "2f7abc05",
   "metadata": {},
   "outputs": [],
   "source": [
    "protein_data = brca.get_proteomics()\n",
    "protein_data # view the data\n",
    "\n",
    "\n",
    "# Uncomment and run this command after you get the data, you don't really need to know what it does but it collapses\n",
    "# the column names and gets rid of the database_IDs which will make our lives much easier!\n",
    "\n",
    "protein_data.columns = protein_data.columns.get_level_values(0) \n"
   ]
  },
  {
   "cell_type": "markdown",
   "id": "1188f104",
   "metadata": {},
   "source": [
    "## (2) Exploring the Data\n",
    "\n",
    "As mentioned earlier, `cptac` data is in the form of `pandas` dataframes. Let's load that and `numpy`. \n",
    "\n",
    "**Exercise 2.1** Import numpy and pandas with their usual shortened names (pd and np)."
   ]
  },
  {
   "cell_type": "code",
   "execution_count": 7,
   "id": "8ace4453",
   "metadata": {
    "scrolled": true
   },
   "outputs": [],
   "source": [
    "# import packages here\n",
    "import pandas as pd\n",
    "import numpy as np"
   ]
  },
  {
   "cell_type": "markdown",
   "id": "2b18a548",
   "metadata": {},
   "source": [
    "Remember that we can access the rows/column names of a data frame in two ways:\n",
    "1. We can get the row and column names together in a list with the `axes` attribute.\n",
    "2. We can get the row or column names individually in the `index` (row) or `columns` (column) attribute.\n",
    "<br></br>\n",
    "**Exercise 2.2** Print the axes, index, and columns of the protein_data object. Then, determine its dimensions using the shape attribute. Finally, answer the following questions:\n",
    "\n",
    "* How many rows and columns are there in the data frame?\n",
    "* What do the rows and columns represent?\n",
    "* How many patients are there?\n",
    "* What about proteins?"
   ]
  },
  {
   "cell_type": "code",
   "execution_count": 8,
   "id": "1501f26c",
   "metadata": {},
   "outputs": [
    {
     "name": "stdout",
     "output_type": "stream",
     "text": [
      "Number of Rows: 122\n",
      "Number of Columns: 10107\n",
      "\n",
      "Rows = Patient_ID\n",
      "Columns = Proteins\n",
      "\n",
      "NumPatients = 122\n",
      "NumProteins = 10107\n"
     ]
    }
   ],
   "source": [
    "## Explore the data frame here and answer questions\n",
    "\n",
    "numRows, numColumns = protein_data.shape\n",
    "print(f'Number of Rows: {numRows}')\n",
    "print(f'Number of Columns: {numColumns}')\n",
    "\n",
    "print()\n",
    "\n",
    "print(f'Rows = {protein_data.index.name}')\n",
    "print(\"Columns = Proteins\")\n",
    "\n",
    "print()\n",
    "\n",
    "print(f'NumPatients = {protein_data.shape[0]}')\n",
    "print(f'NumProteins = {protein_data.shape[1]}')"
   ]
  },
  {
   "cell_type": "markdown",
   "id": "6db06758",
   "metadata": {},
   "source": [
    "Remember we can access data by name using `.loc[]` and `.iloc[]`. Since this dataset is really large, we won't really use `.iloc[]` which accesses by index. To get the protein expression information for a specific patient, therefore, we would run something like this: "
   ]
  },
  {
   "cell_type": "code",
   "execution_count": 9,
   "id": "5158710b",
   "metadata": {},
   "outputs": [],
   "source": [
    "# protein_data.loc[\"patient ID\",\"protein name\"] # this is the general case, you have to fill in actual IDs/protein names"
   ]
  },
  {
   "cell_type": "markdown",
   "id": "0c4e080d",
   "metadata": {},
   "source": [
    "**Exercise 2.3** Remember that the numerical data in CPTAC is the relative fold change, not an absolute value/count. Given this, what kind of number would represent lower relative expression? What kind of number would represent higher relative expression? (Hint: reference level is 0) "
   ]
  },
  {
   "cell_type": "code",
   "execution_count": 10,
   "id": "98e77185",
   "metadata": {},
   "outputs": [],
   "source": [
    "## Answer question in comment form here\n",
    "\n",
    "# I think that negative numbers would represent lower relative expressions while positive numbers represent higher relative expression."
   ]
  },
  {
   "cell_type": "markdown",
   "id": "ccdaaa65",
   "metadata": {},
   "source": [
    "**Exericse 2.4**\n",
    "\n",
    "Print the relative fold change of 5th patient in the `TP53` protein. Then, interpret this value -- does this patient have higher or lower protein levels than the reference? (Hint: use .loc[] and remember that a `:` can be used in either the row or column slot to access every row or every column.)\n"
   ]
  },
  {
   "cell_type": "code",
   "execution_count": 11,
   "id": "112a5055",
   "metadata": {
    "scrolled": true
   },
   "outputs": [
    {
     "name": "stdout",
     "output_type": "stream",
     "text": [
      "Relative Fold change = 2.4935\n",
      "\n",
      "This means that the patient will have higher levels of TP53 than the reference.\n"
     ]
    }
   ],
   "source": [
    "## write code here\n",
    "print(f\"Relative Fold change = {protein_data.iloc[4, protein_data.columns.get_loc('TP53')]}\")\n",
    "print()\n",
    "print(\"This means that the patient will have higher levels of TP53 than the reference.\")"
   ]
  },
  {
   "cell_type": "markdown",
   "id": "e66937a6",
   "metadata": {},
   "source": [
    "### Using Boolean indexing\n",
    "\n",
    "In R, we used the `ifelse()` function very heavily to assign categories, such as classifying patients as \"old\" or \"young\". In Python, we have the `where(COND, TRUE_VAL, FALSE_VAL)` function from numpy, which works extremely similarly to ifelse(). That is:\n",
    "\n",
    "   1. The first parameter is the condition (a boolean vector; i.e. Trues and Falses).\n",
    "   2. The second parameter is the value to fill the True conditions.\n",
    "   3. The third parameter is the value to fil lthe False conditions.\n",
    "    \n",
    "The following example (split into the four code blocks below) shows how to apply the `where()` function, in the context of telling if a number is odd or even."
   ]
  },
  {
   "cell_type": "code",
   "execution_count": 12,
   "id": "877c4f62",
   "metadata": {
    "scrolled": true
   },
   "outputs": [
    {
     "data": {
      "text/html": [
       "<div>\n",
       "<style scoped>\n",
       "    .dataframe tbody tr th:only-of-type {\n",
       "        vertical-align: middle;\n",
       "    }\n",
       "\n",
       "    .dataframe tbody tr th {\n",
       "        vertical-align: top;\n",
       "    }\n",
       "\n",
       "    .dataframe thead th {\n",
       "        text-align: right;\n",
       "    }\n",
       "</style>\n",
       "<table border=\"1\" class=\"dataframe\">\n",
       "  <thead>\n",
       "    <tr style=\"text-align: right;\">\n",
       "      <th></th>\n",
       "      <th>nums</th>\n",
       "    </tr>\n",
       "  </thead>\n",
       "  <tbody>\n",
       "    <tr>\n",
       "      <th>0</th>\n",
       "      <td>0</td>\n",
       "    </tr>\n",
       "    <tr>\n",
       "      <th>1</th>\n",
       "      <td>1</td>\n",
       "    </tr>\n",
       "    <tr>\n",
       "      <th>2</th>\n",
       "      <td>2</td>\n",
       "    </tr>\n",
       "    <tr>\n",
       "      <th>3</th>\n",
       "      <td>3</td>\n",
       "    </tr>\n",
       "    <tr>\n",
       "      <th>4</th>\n",
       "      <td>4</td>\n",
       "    </tr>\n",
       "    <tr>\n",
       "      <th>5</th>\n",
       "      <td>5</td>\n",
       "    </tr>\n",
       "  </tbody>\n",
       "</table>\n",
       "</div>"
      ],
      "text/plain": [
       "   nums\n",
       "0     0\n",
       "1     1\n",
       "2     2\n",
       "3     3\n",
       "4     4\n",
       "5     5"
      ]
     },
     "execution_count": 12,
     "metadata": {},
     "output_type": "execute_result"
    }
   ],
   "source": [
    "# first let's create our example array\n",
    "\n",
    "number_example_array = pd.DataFrame({\"nums\": [0, 1, 2, 3, 4, 5]})\n",
    "number_example_array"
   ]
  },
  {
   "cell_type": "code",
   "execution_count": 13,
   "id": "877ea8ef",
   "metadata": {},
   "outputs": [
    {
     "data": {
      "text/html": [
       "<div>\n",
       "<style scoped>\n",
       "    .dataframe tbody tr th:only-of-type {\n",
       "        vertical-align: middle;\n",
       "    }\n",
       "\n",
       "    .dataframe tbody tr th {\n",
       "        vertical-align: top;\n",
       "    }\n",
       "\n",
       "    .dataframe thead th {\n",
       "        text-align: right;\n",
       "    }\n",
       "</style>\n",
       "<table border=\"1\" class=\"dataframe\">\n",
       "  <thead>\n",
       "    <tr style=\"text-align: right;\">\n",
       "      <th></th>\n",
       "      <th>nums</th>\n",
       "    </tr>\n",
       "  </thead>\n",
       "  <tbody>\n",
       "    <tr>\n",
       "      <th>0</th>\n",
       "      <td>False</td>\n",
       "    </tr>\n",
       "    <tr>\n",
       "      <th>1</th>\n",
       "      <td>True</td>\n",
       "    </tr>\n",
       "    <tr>\n",
       "      <th>2</th>\n",
       "      <td>False</td>\n",
       "    </tr>\n",
       "    <tr>\n",
       "      <th>3</th>\n",
       "      <td>True</td>\n",
       "    </tr>\n",
       "    <tr>\n",
       "      <th>4</th>\n",
       "      <td>False</td>\n",
       "    </tr>\n",
       "    <tr>\n",
       "      <th>5</th>\n",
       "      <td>True</td>\n",
       "    </tr>\n",
       "  </tbody>\n",
       "</table>\n",
       "</div>"
      ],
      "text/plain": [
       "    nums\n",
       "0  False\n",
       "1   True\n",
       "2  False\n",
       "3   True\n",
       "4  False\n",
       "5   True"
      ]
     },
     "execution_count": 13,
     "metadata": {},
     "output_type": "execute_result"
    }
   ],
   "source": [
    "# now, let's make a boolean vector where odds will be True, evens will be False\n",
    "boolean_vector = (number_example_array % 2 == 1)\n",
    "boolean_vector"
   ]
  },
  {
   "cell_type": "code",
   "execution_count": 14,
   "id": "11f0d23e",
   "metadata": {},
   "outputs": [
    {
     "data": {
      "text/html": [
       "<div>\n",
       "<style scoped>\n",
       "    .dataframe tbody tr th:only-of-type {\n",
       "        vertical-align: middle;\n",
       "    }\n",
       "\n",
       "    .dataframe tbody tr th {\n",
       "        vertical-align: top;\n",
       "    }\n",
       "\n",
       "    .dataframe thead th {\n",
       "        text-align: right;\n",
       "    }\n",
       "</style>\n",
       "<table border=\"1\" class=\"dataframe\">\n",
       "  <thead>\n",
       "    <tr style=\"text-align: right;\">\n",
       "      <th></th>\n",
       "      <th>nums</th>\n",
       "      <th>boolean_vector</th>\n",
       "    </tr>\n",
       "  </thead>\n",
       "  <tbody>\n",
       "    <tr>\n",
       "      <th>0</th>\n",
       "      <td>0</td>\n",
       "      <td>False</td>\n",
       "    </tr>\n",
       "    <tr>\n",
       "      <th>1</th>\n",
       "      <td>1</td>\n",
       "      <td>True</td>\n",
       "    </tr>\n",
       "    <tr>\n",
       "      <th>2</th>\n",
       "      <td>2</td>\n",
       "      <td>False</td>\n",
       "    </tr>\n",
       "    <tr>\n",
       "      <th>3</th>\n",
       "      <td>3</td>\n",
       "      <td>True</td>\n",
       "    </tr>\n",
       "    <tr>\n",
       "      <th>4</th>\n",
       "      <td>4</td>\n",
       "      <td>False</td>\n",
       "    </tr>\n",
       "    <tr>\n",
       "      <th>5</th>\n",
       "      <td>5</td>\n",
       "      <td>True</td>\n",
       "    </tr>\n",
       "  </tbody>\n",
       "</table>\n",
       "</div>"
      ],
      "text/plain": [
       "   nums  boolean_vector\n",
       "0     0           False\n",
       "1     1            True\n",
       "2     2           False\n",
       "3     3            True\n",
       "4     4           False\n",
       "5     5            True"
      ]
     },
     "execution_count": 14,
     "metadata": {},
     "output_type": "execute_result"
    }
   ],
   "source": [
    "# then add this vector as a column in our array (we could do this and the above in one step)\n",
    "number_example_array[\"boolean_vector\"] = boolean_vector\n",
    "number_example_array"
   ]
  },
  {
   "cell_type": "code",
   "execution_count": 15,
   "id": "e85d10e5",
   "metadata": {},
   "outputs": [
    {
     "data": {
      "text/html": [
       "<div>\n",
       "<style scoped>\n",
       "    .dataframe tbody tr th:only-of-type {\n",
       "        vertical-align: middle;\n",
       "    }\n",
       "\n",
       "    .dataframe tbody tr th {\n",
       "        vertical-align: top;\n",
       "    }\n",
       "\n",
       "    .dataframe thead th {\n",
       "        text-align: right;\n",
       "    }\n",
       "</style>\n",
       "<table border=\"1\" class=\"dataframe\">\n",
       "  <thead>\n",
       "    <tr style=\"text-align: right;\">\n",
       "      <th></th>\n",
       "      <th>nums</th>\n",
       "      <th>boolean_vector</th>\n",
       "      <th>parity</th>\n",
       "    </tr>\n",
       "  </thead>\n",
       "  <tbody>\n",
       "    <tr>\n",
       "      <th>0</th>\n",
       "      <td>0</td>\n",
       "      <td>False</td>\n",
       "      <td>Even</td>\n",
       "    </tr>\n",
       "    <tr>\n",
       "      <th>1</th>\n",
       "      <td>1</td>\n",
       "      <td>True</td>\n",
       "      <td>Odd</td>\n",
       "    </tr>\n",
       "    <tr>\n",
       "      <th>2</th>\n",
       "      <td>2</td>\n",
       "      <td>False</td>\n",
       "      <td>Even</td>\n",
       "    </tr>\n",
       "    <tr>\n",
       "      <th>3</th>\n",
       "      <td>3</td>\n",
       "      <td>True</td>\n",
       "      <td>Odd</td>\n",
       "    </tr>\n",
       "    <tr>\n",
       "      <th>4</th>\n",
       "      <td>4</td>\n",
       "      <td>False</td>\n",
       "      <td>Even</td>\n",
       "    </tr>\n",
       "    <tr>\n",
       "      <th>5</th>\n",
       "      <td>5</td>\n",
       "      <td>True</td>\n",
       "      <td>Odd</td>\n",
       "    </tr>\n",
       "  </tbody>\n",
       "</table>\n",
       "</div>"
      ],
      "text/plain": [
       "   nums  boolean_vector parity\n",
       "0     0           False   Even\n",
       "1     1            True    Odd\n",
       "2     2           False   Even\n",
       "3     3            True    Odd\n",
       "4     4           False   Even\n",
       "5     5            True    Odd"
      ]
     },
     "execution_count": 15,
     "metadata": {},
     "output_type": "execute_result"
    }
   ],
   "source": [
    "# lastly, let's add a third column called \"parity\" that says based off of \"boolean_vector\" if our value is odd/even\n",
    "number_example_array[\"parity\"] = np.where(boolean_vector, \"Odd\", \"Even\")\n",
    "number_example_array"
   ]
  },
  {
   "cell_type": "markdown",
   "id": "3ae3e913",
   "metadata": {},
   "source": [
    "**Exercise 2.5** Access the following:\n",
    "\n",
    "1. Use boolean indexing to access the patient IDs with high (≥1) `TP53` expression. Save this in a pandas DataFrame called `high_TP53`. HINTS:\n",
    "    * Think about if protein expression information will be contained in a row or a column!\n",
    "    * Create a boolean mask with the row/column that contains the expression information of `TP53`.\n",
    "    * Apply the mask to the row/column names that contains the patient IDs.\n",
    "2. How many patients are there in `high_TP53`? Which axis (columns or rows) represents proteins?\n",
    "3. Add a column to `high_TP53` that has the values \"High\"/\"Average\"/\"Low\" based on ARF1 expression.\n",
    "4. How many patients have high expression of both `TP53` and average expression of `ARF1`?"
   ]
  },
  {
   "cell_type": "code",
   "execution_count": 16,
   "id": "d71d7b15",
   "metadata": {},
   "outputs": [
    {
     "name": "stdout",
     "output_type": "stream",
     "text": [
      "There are 11 patients in high_TP53\n",
      "Columns still represent proteins\n"
     ]
    }
   ],
   "source": [
    "# write code here\n",
    "\n",
    "high_TP53_mask = protein_data['TP53'] >= 1\n",
    "\n",
    "high_TP53 = protein_data[high_TP53_mask]\n",
    "\n",
    "#high_TP53['TP53']\n",
    "\n",
    "print(f'There are {high_TP53.shape[0]} patients in high_TP53')\n",
    "print('Columns still represent proteins')"
   ]
  },
  {
   "cell_type": "markdown",
   "id": "5e91a353",
   "metadata": {},
   "source": [
    "## (3) Additional data in CPTAC\n",
    "\n",
    "You can also access other data using the `cptac` python package for the same patients, using the corresponding get function.\n",
    "\n",
    "**Exercise 3.1** Access the RNA (transcriptomics) and clinical data from the object. The function name is very similar in syntax to the get_proteomics() function from before!"
   ]
  },
  {
   "cell_type": "code",
   "execution_count": 17,
   "id": "26ae7024",
   "metadata": {},
   "outputs": [],
   "source": [
    "rna_data = brca.get_transcriptomics()\n",
    "clinical_data = brca.get_clinical()\n",
    "protein_data = brca.get_proteomics()\n",
    "protein_data.columns = protein_data.columns.get_level_values(0) "
   ]
  },
  {
   "cell_type": "markdown",
   "id": "7d217ca6",
   "metadata": {},
   "source": [
    "**Exercise 3.2** Examine these dataframes. In particular:\n",
    "\n",
    "* What do the values in the rna_data data frame represent?\n",
    "* Compare the dimensions of the high_TP53, rna_data, and clinical_data. Are they equal?"
   ]
  },
  {
   "cell_type": "code",
   "execution_count": 18,
   "id": "0ef35657",
   "metadata": {},
   "outputs": [
    {
     "name": "stdout",
     "output_type": "stream",
     "text": [
      "The values in the rna_data could represent RNA / protein expression.\n",
      "\n",
      "RNA Data Dimensions: (122, 23121)\n",
      "Clinical Data Dimensions: (122, 18)\n",
      "They are not equal in dimensions, but they are equal in row counts\n"
     ]
    }
   ],
   "source": [
    "# explore the data frames using shape, axes, and other functions we've gone over.\n",
    "\n",
    "print(\"The values in the rna_data could represent RNA / protein expression.\")\n",
    "\n",
    "print()\n",
    "\n",
    "print(f'RNA Data Dimensions: {rna_data.shape}')\n",
    "print(f'Clinical Data Dimensions: {clinical_data.shape}')\n",
    "print(\"They are not equal in dimensions, but they are equal in row counts\")"
   ]
  },
  {
   "cell_type": "markdown",
   "id": "67f6107d",
   "metadata": {},
   "source": [
    "The dimensions for each dataframe might not be equal depending on if you masked some patients. That's where the `intersect1d()` function from numpy becomes really useful, especially if we want to analyze transcriptomics, proteomics, and clinical data together. This lets us see which patient barcodes are shared between the data frames.\n",
    "\n",
    "\n",
    "Let's take a look at all of the patients who are older than 50 years old at the time of diagnosis. \n",
    "<br></br>\n",
    "**Exercise 3.3**\n",
    "1.  Use the clinical data DataFrame to create a boolean mask for the condition of patients being older than 50.\n",
    "2.  Mask the clinical data and assign it to a DataFrame called 'masked_clinical'."
   ]
  },
  {
   "cell_type": "code",
   "execution_count": 19,
   "id": "27343c31",
   "metadata": {},
   "outputs": [],
   "source": [
    "# write code here\n",
    "\n",
    "at_least_50 = (clinical_data['Age.in.Month'] >= 600)\n",
    "masked_clinical = clinical_data[at_least_50]"
   ]
  },
  {
   "cell_type": "markdown",
   "id": "d356f73c",
   "metadata": {},
   "source": [
    "Now that we have masked our data, if we tried to do an analysis using the different data frames, we would get a lot of errors since we are now missing some patients in our masked_clinical data frame. If we want to get the patients who are present in the masked data as well as the rna_data and protein_data, we can use intersect1d().\n",
    "\n",
    "**Exercise 3.4**\n",
    "1. Use `intersect1d()` from np to create a list that contains the patient IDs for each pair of data frames as mentioned below. (Hint: this function takes two 1d arrays, which would be patient IDs from two different dataframes. How do we get this from each dataframe? Are patient IDs rows or columns?) \n",
    "2. Use a for loop to print the lengths of these three data frames, and compare them to the number of rows. The for loop skeleton is below. What do you notice about the three lengths? Do the numbers correspond to anything in particular?\n",
    "3. Finally, identify which intersection contains the patient IDs where there is data for all three levels of data (proteomics, transcriptomics, and clinical). How can we tell?"
   ]
  },
  {
   "cell_type": "code",
   "execution_count": null,
   "id": "02098318-a183-4725-9c19-4fb1d873ba35",
   "metadata": {},
   "outputs": [],
   "source": []
  },
  {
   "cell_type": "code",
   "execution_count": 20,
   "id": "6daf99fa",
   "metadata": {},
   "outputs": [
    {
     "name": "stdout",
     "output_type": "stream",
     "text": [
      "The length of intersection 0 is 122\n",
      "The length of intersection 1 is 82\n",
      "The length of intersection 2 is 82\n",
      "The comparison of protein+RNA intersection and masked clinical intersection will have all three levels\n"
     ]
    }
   ],
   "source": [
    "# 1.\n",
    "name_intersects = [\n",
    "    np.intersect1d(protein_data.index,rna_data.index), # 0. fill in intersecting for protein/rna here using intersect1d()\n",
    "    np.intersect1d(protein_data.index,masked_clinical.index), # 1. fill in intersecting for protein/masked clinical here\n",
    "    np.intersect1d(rna_data.index, masked_clinical.index) # 2. fill in the intersecting for rna/masked clinical here\n",
    "]\n",
    "\n",
    "# 2. Print the lengths here\n",
    "# write a for loop here\n",
    "for i, intersection in enumerate(name_intersects):\n",
    "    print(f\"The length of intersection {i} is {len(intersection)}\")  # fill in here\n",
    "    \n",
    "# 3. Which comparison(s) contain the patient names that have all three levels?\n",
    "\n",
    "print(\"The comparison of protein+RNA intersection and masked clinical intersection will have all three levels\")"
   ]
  },
  {
   "cell_type": "markdown",
   "id": "f34fa008",
   "metadata": {},
   "source": [
    "## (4) Examining the Clinical Data"
   ]
  },
  {
   "cell_type": "markdown",
   "id": "1c16ae96",
   "metadata": {},
   "source": [
    "Let's explore the clinical data in more detail.\n",
    "\n",
    "First, use head() to glance as to what data is available."
   ]
  },
  {
   "cell_type": "code",
   "execution_count": 21,
   "id": "60fe1771",
   "metadata": {},
   "outputs": [
    {
     "data": {
      "text/html": [
       "<div>\n",
       "<style scoped>\n",
       "    .dataframe tbody tr th:only-of-type {\n",
       "        vertical-align: middle;\n",
       "    }\n",
       "\n",
       "    .dataframe tbody tr th {\n",
       "        vertical-align: top;\n",
       "    }\n",
       "\n",
       "    .dataframe thead th {\n",
       "        text-align: right;\n",
       "    }\n",
       "</style>\n",
       "<table border=\"1\" class=\"dataframe\">\n",
       "  <thead>\n",
       "    <tr style=\"text-align: right;\">\n",
       "      <th>Name</th>\n",
       "      <th>Replicate_Measurement_IDs</th>\n",
       "      <th>Sample_Tumor_Normal</th>\n",
       "      <th>TMT.Plex</th>\n",
       "      <th>TMT.Channel</th>\n",
       "      <th>Stage</th>\n",
       "      <th>Ischemia.Time.in.Minutes</th>\n",
       "      <th>PAM50</th>\n",
       "      <th>NMF.Cluster</th>\n",
       "      <th>NMF.Cluster.Membership.Score</th>\n",
       "      <th>Age.in.Month</th>\n",
       "      <th>Gender</th>\n",
       "      <th>Ethnicity</th>\n",
       "      <th>ER.Updated.Clinical.Status</th>\n",
       "      <th>PR.Clinical.Status</th>\n",
       "      <th>ERBB2.Updated.Clinical.Status</th>\n",
       "      <th>TNBC.Updated.Clinical.Status</th>\n",
       "      <th>ERBB2.Proteogenomic.Status</th>\n",
       "      <th>TOP2A.Proteogenomic.Status</th>\n",
       "    </tr>\n",
       "    <tr>\n",
       "      <th>Patient_ID</th>\n",
       "      <th></th>\n",
       "      <th></th>\n",
       "      <th></th>\n",
       "      <th></th>\n",
       "      <th></th>\n",
       "      <th></th>\n",
       "      <th></th>\n",
       "      <th></th>\n",
       "      <th></th>\n",
       "      <th></th>\n",
       "      <th></th>\n",
       "      <th></th>\n",
       "      <th></th>\n",
       "      <th></th>\n",
       "      <th></th>\n",
       "      <th></th>\n",
       "      <th></th>\n",
       "      <th></th>\n",
       "    </tr>\n",
       "  </thead>\n",
       "  <tbody>\n",
       "    <tr>\n",
       "      <th>CPT000814</th>\n",
       "      <td>CPT000814</td>\n",
       "      <td>Tumor</td>\n",
       "      <td>13</td>\n",
       "      <td>127C</td>\n",
       "      <td>Stage IIA</td>\n",
       "      <td>NaN</td>\n",
       "      <td>Basal</td>\n",
       "      <td>Basal-I</td>\n",
       "      <td>1.000</td>\n",
       "      <td>NaN</td>\n",
       "      <td>NaN</td>\n",
       "      <td>black.or.african.american</td>\n",
       "      <td>negative</td>\n",
       "      <td>negative</td>\n",
       "      <td>NaN</td>\n",
       "      <td>positive</td>\n",
       "      <td>negative</td>\n",
       "      <td>negative</td>\n",
       "    </tr>\n",
       "    <tr>\n",
       "      <th>CPT001846</th>\n",
       "      <td>CPT001846</td>\n",
       "      <td>Tumor</td>\n",
       "      <td>12</td>\n",
       "      <td>128C</td>\n",
       "      <td>Stage III</td>\n",
       "      <td>NaN</td>\n",
       "      <td>Basal</td>\n",
       "      <td>Basal-I</td>\n",
       "      <td>0.672</td>\n",
       "      <td>NaN</td>\n",
       "      <td>NaN</td>\n",
       "      <td>white</td>\n",
       "      <td>negative</td>\n",
       "      <td>negative</td>\n",
       "      <td>NaN</td>\n",
       "      <td>positive</td>\n",
       "      <td>negative</td>\n",
       "      <td>negative</td>\n",
       "    </tr>\n",
       "    <tr>\n",
       "      <th>X01BR001</th>\n",
       "      <td>X01BR001</td>\n",
       "      <td>Tumor</td>\n",
       "      <td>2</td>\n",
       "      <td>129N</td>\n",
       "      <td>Stage IIB</td>\n",
       "      <td>0.0</td>\n",
       "      <td>Basal</td>\n",
       "      <td>Basal-I</td>\n",
       "      <td>0.782</td>\n",
       "      <td>660.0</td>\n",
       "      <td>female</td>\n",
       "      <td>black.or.african.american</td>\n",
       "      <td>negative</td>\n",
       "      <td>negative</td>\n",
       "      <td>negative</td>\n",
       "      <td>positive</td>\n",
       "      <td>negative</td>\n",
       "      <td>negative</td>\n",
       "    </tr>\n",
       "    <tr>\n",
       "      <th>X01BR008</th>\n",
       "      <td>X01BR008</td>\n",
       "      <td>Tumor</td>\n",
       "      <td>16</td>\n",
       "      <td>127C</td>\n",
       "      <td>NaN</td>\n",
       "      <td>NaN</td>\n",
       "      <td>Basal</td>\n",
       "      <td>Basal-I</td>\n",
       "      <td>0.958</td>\n",
       "      <td>NaN</td>\n",
       "      <td>NaN</td>\n",
       "      <td>NaN</td>\n",
       "      <td>NaN</td>\n",
       "      <td>NaN</td>\n",
       "      <td>NaN</td>\n",
       "      <td>NaN</td>\n",
       "      <td>negative</td>\n",
       "      <td>negative</td>\n",
       "    </tr>\n",
       "    <tr>\n",
       "      <th>X01BR009</th>\n",
       "      <td>X01BR009</td>\n",
       "      <td>Tumor</td>\n",
       "      <td>16</td>\n",
       "      <td>127N</td>\n",
       "      <td>NaN</td>\n",
       "      <td>NaN</td>\n",
       "      <td>Basal</td>\n",
       "      <td>Basal-I</td>\n",
       "      <td>0.825</td>\n",
       "      <td>NaN</td>\n",
       "      <td>NaN</td>\n",
       "      <td>NaN</td>\n",
       "      <td>negative</td>\n",
       "      <td>negative</td>\n",
       "      <td>NaN</td>\n",
       "      <td>positive</td>\n",
       "      <td>negative</td>\n",
       "      <td>negative</td>\n",
       "    </tr>\n",
       "  </tbody>\n",
       "</table>\n",
       "</div>"
      ],
      "text/plain": [
       "Name       Replicate_Measurement_IDs Sample_Tumor_Normal TMT.Plex TMT.Channel  \\\n",
       "Patient_ID                                                                      \n",
       "CPT000814                  CPT000814               Tumor       13        127C   \n",
       "CPT001846                  CPT001846               Tumor       12        128C   \n",
       "X01BR001                    X01BR001               Tumor        2        129N   \n",
       "X01BR008                    X01BR008               Tumor       16        127C   \n",
       "X01BR009                    X01BR009               Tumor       16        127N   \n",
       "\n",
       "Name            Stage  Ischemia.Time.in.Minutes  PAM50 NMF.Cluster  \\\n",
       "Patient_ID                                                           \n",
       "CPT000814   Stage IIA                       NaN  Basal     Basal-I   \n",
       "CPT001846   Stage III                       NaN  Basal     Basal-I   \n",
       "X01BR001    Stage IIB                       0.0  Basal     Basal-I   \n",
       "X01BR008          NaN                       NaN  Basal     Basal-I   \n",
       "X01BR009          NaN                       NaN  Basal     Basal-I   \n",
       "\n",
       "Name        NMF.Cluster.Membership.Score  Age.in.Month  Gender  \\\n",
       "Patient_ID                                                       \n",
       "CPT000814                          1.000           NaN     NaN   \n",
       "CPT001846                          0.672           NaN     NaN   \n",
       "X01BR001                           0.782         660.0  female   \n",
       "X01BR008                           0.958           NaN     NaN   \n",
       "X01BR009                           0.825           NaN     NaN   \n",
       "\n",
       "Name                        Ethnicity ER.Updated.Clinical.Status  \\\n",
       "Patient_ID                                                         \n",
       "CPT000814   black.or.african.american                   negative   \n",
       "CPT001846                       white                   negative   \n",
       "X01BR001    black.or.african.american                   negative   \n",
       "X01BR008                          NaN                        NaN   \n",
       "X01BR009                          NaN                   negative   \n",
       "\n",
       "Name       PR.Clinical.Status ERBB2.Updated.Clinical.Status  \\\n",
       "Patient_ID                                                    \n",
       "CPT000814            negative                           NaN   \n",
       "CPT001846            negative                           NaN   \n",
       "X01BR001             negative                      negative   \n",
       "X01BR008                  NaN                           NaN   \n",
       "X01BR009             negative                           NaN   \n",
       "\n",
       "Name       TNBC.Updated.Clinical.Status ERBB2.Proteogenomic.Status  \\\n",
       "Patient_ID                                                           \n",
       "CPT000814                      positive                   negative   \n",
       "CPT001846                      positive                   negative   \n",
       "X01BR001                       positive                   negative   \n",
       "X01BR008                            NaN                   negative   \n",
       "X01BR009                       positive                   negative   \n",
       "\n",
       "Name       TOP2A.Proteogenomic.Status  \n",
       "Patient_ID                             \n",
       "CPT000814                    negative  \n",
       "CPT001846                    negative  \n",
       "X01BR001                     negative  \n",
       "X01BR008                     negative  \n",
       "X01BR009                     negative  "
      ]
     },
     "execution_count": 21,
     "metadata": {},
     "output_type": "execute_result"
    }
   ],
   "source": [
    "# write code here\n",
    "clinical_data.head()"
   ]
  },
  {
   "cell_type": "markdown",
   "id": "77030e93",
   "metadata": {},
   "source": [
    "**Exercise 4.1** You might notice that the Age column values don't look like years -- they're in months. Create a new column called \"Age\" with the \"Age.in.Month\" values / 12. Then, use head() again to make sure the ages were converted."
   ]
  },
  {
   "cell_type": "code",
   "execution_count": 22,
   "id": "e2b7a6d2",
   "metadata": {},
   "outputs": [],
   "source": [
    "# convert ages here!\n",
    "clinical_data['Age'] = clinical_data['Age.in.Month'] / 12"
   ]
  },
  {
   "cell_type": "markdown",
   "id": "a7e704a4",
   "metadata": {},
   "source": [
    "There may be control (non-cancer) tissue samples in some datasets. Let's determine whether we need to account for this in our dataset this using the unique() function from numpy.\n",
    "\n",
    "__Exercise 4.2__ Call the unique() function on the Sample_Tumor_Normal column. The function will return the unique values in the column in a sorted order -- this is super useful for examining categorical variables, like tumor stage and tumor status, for example."
   ]
  },
  {
   "cell_type": "code",
   "execution_count": 23,
   "id": "5b56fa09",
   "metadata": {},
   "outputs": [
    {
     "name": "stdout",
     "output_type": "stream",
     "text": [
      "['Tumor']\n"
     ]
    }
   ],
   "source": [
    "# Get the levels of the Sample_Tumor_Normal column with unique()\n",
    "uniquevals = clinical_data['Sample_Tumor_Normal'].unique()\n",
    "uniquevals.sort()\n",
    "print(uniquevals)"
   ]
  },
  {
   "cell_type": "markdown",
   "id": "5b1338d1",
   "metadata": {},
   "source": [
    "__Exercise 4.3__ Let's examine how tumor stage varies as a function of age:\n",
    "\n",
    "   1. Import the plotting libraries matplotlib.pyplot and seaborn (use the standard abbreviations presented last time, seaborn is sns).\n",
    "   2. Create an age_category column in clinical_data. Define \"Young\" as under the median age, and \"Old\" as the median age and older. (Hint: use the where() function from numpy, the equivalent to ifelse()).\n",
    "   3. The \"Stage\" information for soome of these patients is NaN (the pandas version of NA). Use the isna() function from pandas and boolean indexing (i.e. where() from numpy again) to remove any patients with NaN values in \"Stage\".\n",
    "   4. Using nested for loop and boolean indexing, count the number of old and young patients that have Stage I, Stage II, Stage III, and Stage IV cancer.\n",
    "   5. Use the skeleton code to draw the barplot. Do your numbers make sense?"
   ]
  },
  {
   "cell_type": "code",
   "execution_count": 36,
   "id": "3d9b0202",
   "metadata": {},
   "outputs": [
    {
     "name": "stdout",
     "output_type": "stream",
     "text": [
      "Old\n",
      "Stage IA: 2\n",
      "Stage IIA: 26\n",
      "Stage IIB: 6\n",
      "Stage III: 1\n",
      "Stage IIIA: 14\n",
      "Stage IIIB: 2\n",
      "Stage IIIC: 2\n",
      "Young\n",
      "Stage IA: 2\n",
      "Stage IIA: 24\n",
      "Stage IIB: 14\n",
      "Stage III: 3\n",
      "Stage IIIA: 8\n",
      "Stage IIIB: 1\n",
      "Stage IIIC: 2\n"
     ]
    },
    {
     "data": {
      "image/png": "[encoded data removed]",
      "text/plain": [
       "<Figure size 640x480 with 1 Axes>"
      ]
     },
     "metadata": {},
     "output_type": "display_data"
    }
   ],
   "source": [
    "# 1. Import libraries here\n",
    "import seaborn as sns\n",
    "import matplotlib.pyplot as plt\n",
    "\n",
    "# 2. Create the age_category column in clinical_data\n",
    "median_val = clinical_data['Age'].median()\n",
    "clinical_data['age_category'] = np.where(clinical_data['Age'] >= median_val, \"Old\", \"Young\")\n",
    "clinical_data['age_category']\n",
    "\n",
    "# 3. Filter our NaN\n",
    "\n",
    "clinical_data = clinical_data[~clinical_data['Stage'].isna()]\n",
    "\n",
    "## this will programatically get all the stages in order\n",
    "stage_categories = np.unique(clinical_data.loc[:, 'Stage'])\n",
    "assert(np.all(stage_categories == ['Stage IA', 'Stage IIA', 'Stage IIB',\n",
    "                                    'Stage III', 'Stage IIIA', 'Stage IIIB', 'Stage IIIC']))\n",
    "\n",
    "# 4. Loop through all the stage categories and count\n",
    "\n",
    "for age_cat in [\"Old\", \"Young\"]:\n",
    "    print(age_cat)\n",
    "    for stage in stage_categories:\n",
    "        subset = clinical_data[(clinical_data['age_category'] == age_cat) & (clinical_data['Stage'] == stage)]\n",
    "        print(f\"{stage}: {len(subset)}\")\n",
    "\n",
    "\n",
    "        \n",
    "# 5. Create a barplot to compare your results\n",
    "sns.countplot(\n",
    "    x = \"age_category\",\n",
    "    hue = \"Stage\",\n",
    "    hue_order = stage_categories,\n",
    "    data = clinical_data\n",
    ")\n",
    "\n",
    "plt.show()"
   ]
  },
  {
   "cell_type": "markdown",
   "id": "c5b41b9e",
   "metadata": {},
   "source": [
    "## (5) Plotting Proteomic Data"
   ]
  },
  {
   "cell_type": "markdown",
   "id": "456a052b",
   "metadata": {},
   "source": [
    "Let's explore how the proteomic expression of a gene differs between young and old patients.\n",
    "\n",
    "**Exercise 5.1** Plot the expression data of a chosen protein stratified between patients older and younger than the median age."
   ]
  },
  {
   "cell_type": "code",
   "execution_count": null,
   "id": "73359e8c",
   "metadata": {},
   "outputs": [],
   "source": [
    "young_mask = FILL IN HERE # look at the columns of the clinical data to see what column to get age information\n",
    "old_mask = FILL IN HERE\n",
    "\n",
    "young = (protein_data.loc[FILL IN HERE]).dropna()\n",
    "old = (protein_data.loc[FILL IN HERE]).dropna()\n",
    "\n",
    "data = [old.values, young.values] # our boxplot function will require an array (or an array of arrays)\n",
    "data"
   ]
  },
  {
   "cell_type": "code",
   "execution_count": null,
   "id": "01ad52bc",
   "metadata": {},
   "outputs": [],
   "source": [
    "fig, ax = plt.subplots()\n",
    "\n",
    "plt.axhline(y = 0, color = 'blue', linestyle = '-')\n",
    "plt.axhline(y = -1, color = 'blue', linestyle = ':')\n",
    "plt.axhline(y = 1, color = 'blue', linestyle = ':')\n",
    "\n",
    "\n",
    "bp = ax.boxplot(FILL IN HERE) # data goes here\n",
    "plt.xticks([1, 2], [\"FILL IN HERE\", \"FILL IN HERE\"]) # use \\n for new line if desired\n",
    "\n",
    "\n",
    "plt.show()"
   ]
  },
  {
   "cell_type": "markdown",
   "id": "25e3f44f",
   "metadata": {},
   "source": [
    "**Exercise 5.2** Why do you think we added lines at -1, 0, and 1? What do these values represent in terms of log2FoldChange?"
   ]
  },
  {
   "cell_type": "code",
   "execution_count": null,
   "id": "73715440",
   "metadata": {},
   "outputs": [],
   "source": [
    "# answer in a comment here"
   ]
  },
  {
   "cell_type": "markdown",
   "id": "fa7c2940",
   "metadata": {},
   "source": [
    "## (6) SciPy\n",
    "Another question to ask is if the levels of RNA expression correlate with protein expression. While we would expect for there to be a 1:1 relationship between RNA and protein (according to the central dogma), as you will see, this is not what we oftentimes observe."
   ]
  },
  {
   "cell_type": "code",
   "execution_count": null,
   "id": "f5be4586",
   "metadata": {},
   "outputs": [],
   "source": [
    "from scipy import stats # we are using the stats package in particular"
   ]
  },
  {
   "cell_type": "markdown",
   "id": "6d033105",
   "metadata": {},
   "source": [
    "The first thing we need to do is to identify which patients and genes are shared between the transcriptomic and proteomic data sets.\n",
    "\n",
    "For some cancer, patients doesn't have clinical or transcriptomic data in CPTAC. We need to use intersect1d() to fix this. We also need to use intersect1d() to determine which genes are shared.\n",
    "\n",
    "**Exercise 6.1** To make sure the data frames match:\n",
    "\n",
    "1. Identify patients that are shared between transcriptomic and proteomics data (hint: use intersect1d()). \n",
    "2. Identify the names of the genes that are shared between the two datasets (hint: use intersect1d()). Is this data the row or column names?\n",
    "3. Create the rna_shared and prot_shared data frames; ie dataframes with only genes and patients that are shared between rna and protein data. (Hint: how can we access rows/columns by name?)."
   ]
  },
  {
   "cell_type": "code",
   "execution_count": null,
   "id": "a5cf7b19",
   "metadata": {},
   "outputs": [],
   "source": [
    "# 1. Identify the patients shared between RNA and protein data.\n",
    "shared_patients_prot = FILL IN HERE\n",
    "\n",
    "# 2. Identify the genes (RNA, protein) shared between the two data sets \n",
    "shared_rna_prot = FILL IN HERE\n",
    "\n",
    "# 3. Create the two data frames\n",
    "rna_shared = FILL IN HERE\n",
    "prot_shared = FILL IN HERE"
   ]
  },
  {
   "cell_type": "markdown",
   "id": "7a365ac5",
   "metadata": {},
   "source": [
    "Now, we can see how correlated the RNA and protein levels are. We'll use Spearman correlation from the stats library, which is spearmanr().\n",
    "\n",
    "**Exercise 6.2** Choose a gene and get the Spearman correlation of the rna to protein of that gene."
   ]
  },
  {
   "cell_type": "code",
   "execution_count": null,
   "id": "ffc0f52b",
   "metadata": {},
   "outputs": [],
   "source": [
    "# we need the nan_policy=\"omit\" to throw out NaN values\n",
    "corr, pval = stats.spearmanr(rna_shared[\"FILL IN HERE\"], prot_shared[\"FILL IN HERE\"], nan_policy=\"omit\")\n",
    "\n",
    "print(f\"The correlation of FILL IN HERE is {round(corr, 3)} (p = {round(pval, 10)}).\")"
   ]
  },
  {
   "cell_type": "markdown",
   "id": "21464da2",
   "metadata": {},
   "source": [
    "**Exercise 6.3** What is your gene's Spearman correlation? What does that mean mathematically? What could this represent biologically? Look into the literature to see if it corroborates this idea."
   ]
  },
  {
   "cell_type": "code",
   "execution_count": null,
   "id": "f424914b",
   "metadata": {},
   "outputs": [],
   "source": [
    "# answer in a comment here"
   ]
  },
  {
   "cell_type": "markdown",
   "id": "d123f959",
   "metadata": {},
   "source": [
    "## (7) Heatmaps\n",
    "**Exercise 7.1** A problem arises if we want to compare many correlations. Heatmaps are useful for visualizing a large number of comparisons. To make a heatmap, we'll use the heatmap() function from seaborn. Let's do the following:\n",
    "\n",
    "1. Set up our data frame to hold all comparisons. All you need to do is to access the first 20 gene names.\n",
    "2. Calculate the correlations for the first 20 genes (just to save time). You'll need to use two for loops.\n",
    "3. Call heatmap() -- this is filled in for you!\n",
    "4. Interpret the data. There is a \"light\" diagonal along the heatmap from the top-left to bottom-right. Is this expected? Why or why not?"
   ]
  },
  {
   "cell_type": "code",
   "execution_count": null,
   "id": "79e1b2a0",
   "metadata": {},
   "outputs": [],
   "source": [
    "# import seaborn as sns"
   ]
  },
  {
   "cell_type": "code",
   "execution_count": null,
   "id": "5149313c",
   "metadata": {},
   "outputs": [],
   "source": [
    "ncomparisons = 20 # define this variable in case we want to change the number of correlations to test\n",
    "                  # this makes it less likely you'll forget to change a number, e.g. in the data frame shape\n",
    "gene_names = FILL IN HERE # get the first ncomparisons gene names\n",
    "\n",
    "\n",
    "# Don't worry about this code\n",
    "# It's good practice to declare your data frame beforehand (it's much faster than appending to a list)\n",
    "# We fill everything in with 0 just as a placeholder\n",
    "corr_df = pd.DataFrame(np.ndarray(shape=(ncomparisons, ncomparisons), dtype=np.float16),\n",
    "                      index = gene_names,\n",
    "                      columns = gene_names)\n",
    "\n",
    "# 2. fill in the data frame!\n",
    "for g1 in gene_names:\n",
    "    for g2 in gene_names:\n",
    "        # calculate the correlations between protein and RNA\n",
    "        # then, use .loc[] to store the correlation in corr_df\n",
    "        FILL IN HERE\n",
    "\n",
    "# 3. create the heat map\n",
    "plot = sns.heatmap(\n",
    "    corr_df,\n",
    "    cmap='mako',\n",
    ")\n",
    "plot.set_xlabel('Protein', fontsize=10)\n",
    "plot.set_ylabel('RNA', fontsize=10)\n",
    "plt.show()\n",
    "\n",
    "# 4. interpret!"
   ]
  },
  {
   "cell_type": "markdown",
   "id": "127284e2",
   "metadata": {},
   "source": [
    "## (8) More with Seaborn\n",
    "seaborn is a nice package which works well with matplotlib and makes prettier plots with more control over the figure.\n",
    "\n",
    "Here's how you make a scatter plot with seaborn, for example:"
   ]
  },
  {
   "cell_type": "code",
   "execution_count": null,
   "id": "e7d72523",
   "metadata": {},
   "outputs": [],
   "source": [
    "fig, ax = plt.subplots()\n",
    "\n",
    "sns.scatterplot( # x-axis\n",
    "    x = clinical_data.loc[:, \"Age.in.Month\"],\n",
    "    y = protein_data.loc[:, \"DYNLT3\"],# y-axis\n",
    "    legend = \"full\",  # show the legend\n",
    "    ax = ax  # necessary for when plotting more than 1 subplot\n",
    ")\n",
    "\n",
    "fig.suptitle('Age vs. DYNLT3')  # set title\n",
    "\n",
    "plt.show()"
   ]
  },
  {
   "cell_type": "markdown",
   "id": "2b2a98a7",
   "metadata": {},
   "source": [
    "**Exercise 8.1** Update the above plot to:\n",
    "\n",
    "1. Have age in years instead of months.\n",
    "2. Color patients based on gender (or another clinical variable of your choosing)\n",
    "3. Have a side-by-side second plot with a different protein of your choosing"
   ]
  },
  {
   "cell_type": "code",
   "execution_count": null,
   "id": "0a02927d",
   "metadata": {},
   "outputs": [],
   "source": [
    "# create plot here"
   ]
  },
  {
   "cell_type": "markdown",
   "id": "392e7cd4",
   "metadata": {},
   "source": [
    "## (9) Saving Plots\n",
    "Remember, to save a plot, we can call plt.savefig() instead of the plt.show()."
   ]
  },
  {
   "cell_type": "code",
   "execution_count": null,
   "id": "d83d3ddc",
   "metadata": {},
   "outputs": [],
   "source": [
    "fig, ax = plt.subplots()\n",
    "\n",
    "sns.scatterplot( # x-axis\n",
    "    x = clinical_data.loc[:, \"Age.in.Month\"],\n",
    "    y = protein_data.loc[:, \"DYNLT3\"],# y-axis\n",
    "    legend = \"full\",  # show the legend\n",
    "    ax = ax  # necessary for when plotting more than 1 subplot\n",
    ")\n",
    "\n",
    "fig.suptitle('Age vs. DYNLT3')  # set title\n",
    "\n",
    "# age_scatter.png is a relative path so check your working directory before running it\n",
    "plt.savefig('age_scatter.png', bbox_inches='tight')"
   ]
  },
  {
   "cell_type": "markdown",
   "id": "bb00966a",
   "metadata": {},
   "source": [
    "# Exercises\n",
    "Only this section will be graded!\n",
    "## 1. Drawing Connections\n",
    "1. Choose a clinical variable and segment the cohort into two groups. \n",
    "2. Find out what the 5 most differentially expressed genes are (we aren't going to do this in a sophisticated way like DESeq, instead just take the mean expression of every single gene within a group and find the gene which has the greatest difference in mean between the two groups)\n",
    "3. Create two scatter plots, side by side, each with one group. Within the scatter plots, plot RNA expression versus protein expression for each of the genes in a different color.\n",
    "4. Add appropriate legend, title, and labels."
   ]
  },
  {
   "cell_type": "code",
   "execution_count": 81,
   "id": "ec461a39-d1d2-48d5-9e51-0819647924a4",
   "metadata": {
    "scrolled": true
   },
   "outputs": [
    {
     "data": {
      "text/plain": [
       "Name\n",
       "MIR6811    13.636300\n",
       "RPL41      11.455634\n",
       "B2M        11.227191\n",
       "TMSB10     10.839852\n",
       "MIR6797    10.658400\n",
       "dtype: float64"
      ]
     },
     "execution_count": 81,
     "metadata": {},
     "output_type": "execute_result"
    }
   ],
   "source": []
  },
  {
   "cell_type": "code",
   "execution_count": 108,
   "id": "db07b231",
   "metadata": {},
   "outputs": [
    {
     "data": {
      "image/png": "[encoded data removed]",
      "text/plain": [
       "<Figure size 1400x700 with 2 Axes>"
      ]
     },
     "metadata": {},
     "output_type": "display_data"
    }
   ],
   "source": [
    "# write code here\n",
    "\n",
    "# Find top 5 genes\n",
    "\n",
    "rna_data.columns = rna_data.columns.get_level_values(0) \n",
    "\n",
    "# Calculate the mean for each column (gene) in the dataframe\n",
    "gene_means = rna_data.mean()\n",
    "\n",
    "# Sort the means in descending order and get the top 5\n",
    "top_five = gene_means.sort_values(ascending=False).head(5)\n",
    "\n",
    "# Merge clinical and RNA data on patient ID\n",
    "merged_data = pd.merge(clinical_data, rna_data, on='Patient_ID')\n",
    "\n",
    "final_merged_data = pd.merge(merged_data, protein_data, on='Patient_ID')\n",
    "\n",
    "group_1 = final_merged_data[final_merged_data['age_category'] == 'Young']\n",
    "group_2 = final_merged_data[final_merged_data['age_category'] == 'Old']\n",
    "\n",
    "# For some reason, I only found two commonalities between protein and RNA - B2M and TMSB10\n",
    "\n",
    "top_five_genes = top_five.index.tolist()\n",
    "\n",
    "import matplotlib.pyplot as plt\n",
    "import seaborn as sns\n",
    "\n",
    "fig, axes = plt.subplots(1, 2, figsize=(14, 7), sharey=True)\n",
    "genes = ['B2M', 'TMSB10']\n",
    "for i, gene in enumerate(genes):\n",
    "    rna_col = f'{gene}_x'\n",
    "    protein_col = f'{gene}_y'\n",
    "    sns.scatterplot(x=rna_col, y=protein_col, data=group_1, ax=axes[i], label='Young', alpha=0.7)\n",
    "    sns.scatterplot(x=rna_col, y=protein_col, data=group_2, ax=axes[i], label='Old', alpha=0.7)\n",
    "    axes[i].set_title(f'{gene} Expression')\n",
    "    axes[i].set_xlabel('RNA Expression')\n",
    "    axes[i].set_ylabel('Protein Expression')\n",
    "    axes[i].legend()\n",
    "plt.tight_layout()\n",
    "plt.show()\n",
    "\n",
    "\n",
    "\n"
   ]
  },
  {
   "cell_type": "markdown",
   "id": "d374d6f3",
   "metadata": {},
   "source": [
    "## 2. Interpretation Skills\n",
    "This section is short-answer based written responses. Please respond in 2-3 sentences to each question below for full credit.\n",
    "1. What do the numbers within the protein and transcriptomics DataFrames represent? Why do we represent them this way?\n",
    "2. Why are there fewer columns in the protein DataFrame than the transcriptomics one?\n",
    "3. Explain how the central dogma may be broken in between DNA -> RNA -> Proteins and how this might affect our proteomics data.\n",
    "4. Why is proteomics data relatively scarce compared to sequencing data?\n",
    "5. Should we ever expect protein expression to be 0 in a tumor sample?\n",
    "6. What are protein domains and how do they relate to the role of a protein?\n"
   ]
  },
  {
   "cell_type": "code",
   "execution_count": null,
   "id": "c9b9c9ca",
   "metadata": {},
   "outputs": [],
   "source": [
    "# answer questions here\n",
    "\n",
    "#1. The numbers within the protein and transcriptomics DataFrames represent relative levels of their expression. They can take upon either positive numbers\n",
    "# or negative numbers with a baseline value of 0. We represent them in this way because it is easier to quantify and classify their expression as \n",
    "# higher or lower than the baseline.\n",
    "\n",
    "#2. There are fewer columns because not all RNA may be translated into proteins. For example, RNA may stay as miRNA or tRNA rather than become\n",
    "# mRNA which is translated into proteins. Some proteins may also be hard to detect and analyze.\n",
    "\n",
    "#3. Processes like alternative splicing, editing, post translational modifications can essentially break\n",
    "# the central dogma, causing a multitude of proteins to rise from a single gene. Proteins may also be altered\n",
    "# post translation, having a completely different function than what they are initialized with. This can create\n",
    "# the discrepancies we see in the data.\n",
    "\n",
    "#4. Proteomics data is scarce due to technological limitations, complexities, and prices. In fact, proteomics tech-\n",
    "# nology is generally more complex and expensive than DNA/RNA sequencing technologies.\n",
    "\n",
    "#5. I think it's definitely possible due to gene silencing or other mutations, or even errors in detection methods. \n",
    "# The protein may also be completely missing due to a certain type of cell / condition as well.\n",
    "\n",
    "#6. Protein domains are essentially \"units\" within a protein which are responsible for a function / interaction. When \n",
    "# domains combine, it can determine a protein's overall roll such as enzymatic activity, structure, signaling, or binding."
   ]
  },
  {
   "cell_type": "markdown",
   "id": "6b5fe38f",
   "metadata": {},
   "source": [
    "## 3. Challenge Exercise - Incorporating Genomics\n",
    "This exercise is optional and is worth extra credit up to 5 points. The combined extra credit between challenge exercises will cap out at 5 points total.\n",
    "<br></br>\n",
    "We can get somatic mutation data for cptac patients the same way we get proteomics, transcriptomical, or clinical. Let's explore some aspects of it.\n",
    "1. Save the cancer somatic mutation data to `mutation_data`\n",
    "2. Determine the top 10 most commonly mutated genes within the dataset.\n",
    "3. Determine what percent of patients have a mutation in at least one of those genes.\n",
    "4. Create a bar plot that shows percent percent of patients that have exactly 0-10 out of 10 of those mutations. Name axes and titles appropriately."
   ]
  },
  {
   "cell_type": "code",
   "execution_count": 128,
   "id": "6c491898",
   "metadata": {},
   "outputs": [
    {
     "name": "stdout",
     "output_type": "stream",
     "text": [
      "Index(['Patient_ID', 'Gene', 'Mutation', 'Location'], dtype='object', name='Name')\n"
     ]
    },
    {
     "data": {
      "image/png": "[encoded data removed]",
      "text/plain": [
       "<Figure size 1000x600 with 1 Axes>"
      ]
     },
     "metadata": {},
     "output_type": "display_data"
    }
   ],
   "source": [
    "# write code here\n",
    "\n",
    "mutation_data = brca.get_somatic_mutation()\n",
    "\n",
    "mutation_data.reset_index(inplace=True)\n",
    "\n",
    "print(mutation_data.columns)\n",
    "\n",
    "top_10_mutated_genes = mutation_data['Gene'].value_counts().head(10)\n",
    "\n",
    "patients_with_top_mutations = mutation_data[mutation_data['Gene'].isin(top_10_mutated_genes.index)]['Patient_ID'].unique()\n",
    "percent_patients_with_mutation = (len(patients_with_top_mutations) / mutation_data['Patient_ID'].nunique()) * 100\n",
    "\n",
    "mutation_counts_per_patient = mutation_data[mutation_data['Gene'].isin(top_10_mutated_genes.index)]\\\n",
    "                                .groupby('Patient_ID')['Gene'].size()\n",
    "\n",
    "mutation_bins = pd.cut(mutation_counts_per_patient, bins=list(range(0, 12)), right=False, include_lowest=True)\n",
    "\n",
    "mutation_bin_counts = mutation_bins.value_counts().sort_index()\n",
    "\n",
    "percent_patients_per_bin = (mutation_bin_counts / mutation_data['Patient_ID'].nunique()) * 100\n",
    "\n",
    "plt.figure(figsize=(10, 6))\n",
    "percent_patients_per_bin.plot(kind='bar')\n",
    "plt.xlabel('Number of Mutations in Top 10 Mutated Genes')\n",
    "plt.ylabel('Percentage of Patients (%)')\n",
    "plt.title('Percentage of Patients with 0-10 Mutations in Top 10 Genes')\n",
    "plt.xticks(range(11), labels=[f'{i}' for i in range(11)])  \n",
    "plt.show()\n",
    "\n"
   ]
  }
 ],
 "metadata": {
  "kernelspec": {
   "display_name": "Python 3 (ipykernel)",
   "language": "python",
   "name": "python3"
  },
  "language_info": {
   "codemirror_mode": {
    "name": "ipython",
    "version": 3
   },
   "file_extension": ".py",
   "mimetype": "text/x-python",
   "name": "python",
   "nbconvert_exporter": "python",
   "pygments_lexer": "ipython3",
   "version": "3.9.18"
  }
 },
 "nbformat": 4,
 "nbformat_minor": 5
}
