{
 "cells": [
  {
   "cell_type": "markdown",
   "id": "6602d388-d45f-4e7e-bbcb-e05d3ae18b68",
   "metadata": {},
   "source": [
    "### Python Review Project - Part 2"
   ]
  },
  {
   "cell_type": "code",
   "execution_count": 232,
   "id": "9f0d2e6d-eb20-4ec4-99ba-62d534e287c6",
   "metadata": {},
   "outputs": [],
   "source": [
    "import pandas as pd\n",
    "import numpy as np"
   ]
  },
  {
   "cell_type": "markdown",
   "id": "5c586c15-6218-45bc-bb03-2fba1f8f4e75",
   "metadata": {},
   "source": [
    "#### Aman Sharma"
   ]
  },
  {
   "cell_type": "markdown",
   "id": "f5393d72-4048-459f-8c84-31614ba73437",
   "metadata": {},
   "source": [
    "###### Importing CCRCC "
   ]
  },
  {
   "cell_type": "code",
   "execution_count": 233,
   "id": "82f77d56-d94b-468d-9109-15658343417a",
   "metadata": {},
   "outputs": [
    {
     "name": "stdout",
     "output_type": "stream",
     "text": [
      "                                          \r"
     ]
    }
   ],
   "source": [
    "import cptac\n",
    "cptac.download(dataset=\"Ccrcc\")\n",
    "ccrcc = cptac.Ccrcc()"
   ]
  },
  {
   "cell_type": "markdown",
   "id": "6b8a478d-171b-4472-a567-ff0816af6a19",
   "metadata": {},
   "source": [
    "###### Getting the necessary data + Stage 1/3 patients"
   ]
  },
  {
   "cell_type": "code",
   "execution_count": 234,
   "id": "924e946d-cc16-43a7-94ce-94279097d85e",
   "metadata": {},
   "outputs": [],
   "source": [
    "protein_data = ccrcc.get_proteomics()\n",
    "protein_data.columns = protein_data.columns.get_level_values(0)\n",
    "rna_data = ccrcc.get_transcriptomics()\n",
    "rna_data.columns = rna_data.columns.get_level_values(0)\n",
    "clinical_data = ccrcc.get_clinical()"
   ]
  },
  {
   "cell_type": "code",
   "execution_count": 235,
   "id": "93f66dd3-6c5f-4681-9122-63569055f4a6",
   "metadata": {},
   "outputs": [],
   "source": [
    "# Builds a mask that will be helpful for filtering stage 1 and 3 patients\n",
    "# it'll store the patient ids that fall under this category\n",
    "\n",
    "stage1and3 = clinical_data[clinical_data['tumor_stage_pathological'].isin(['Stage I', 'Stage III'])]\n",
    "patient_ids_13 = stage1and3.index"
   ]
  },
  {
   "cell_type": "markdown",
   "id": "35370ecf-81c9-4032-a05a-2e96bf819298",
   "metadata": {},
   "source": [
    "###### Protein data "
   ]
  },
  {
   "cell_type": "code",
   "execution_count": 236,
   "id": "c1c170ae-281f-46a6-8006-afdf0c2c3309",
   "metadata": {},
   "outputs": [],
   "source": [
    "protein_data_13 = protein_data.loc[patient_ids_13]"
   ]
  },
  {
   "cell_type": "code",
   "execution_count": 237,
   "id": "20c2ffde-cafe-426e-beae-a5eb65dad168",
   "metadata": {},
   "outputs": [],
   "source": [
    "# Gathers stage 1 and stage 3 patients respectively for patient data\n",
    "\n",
    "protein_data_stage1 = protein_data_13.loc[clinical_data['tumor_stage_pathological'] == 'Stage I']\n",
    "protein_data_stage3 = protein_data_13.loc[clinical_data['tumor_stage_pathological'] == 'Stage III']"
   ]
  },
  {
   "cell_type": "code",
   "execution_count": 238,
   "id": "9396e148-08a5-487a-9d82-da85d6bcfb60",
   "metadata": {},
   "outputs": [],
   "source": [
    "# Gathers the means for stage 1 and stage 3 patients respectively\n",
    "\n",
    "protein_data_stage1_means = protein_data_stage1.mean()\n",
    "protein_data_stage3_means = protein_data_stage3.mean()"
   ]
  },
  {
   "cell_type": "code",
   "execution_count": 239,
   "id": "94a5fff8-cbc1-411f-b0f4-cfd0f14aff9a",
   "metadata": {},
   "outputs": [
    {
     "name": "stdout",
     "output_type": "stream",
     "text": [
      "Top 5 differentially expressed proteins:  ['LDB3', 'BTBD7', 'GDF6', 'COX4I2', 'SNCB']\n"
     ]
    }
   ],
   "source": [
    "# Gathers differentiation and prints out the top 5\n",
    "\n",
    "protein_differential = (protein_data_stage1_means - protein_data_stage3_means).abs()\n",
    "top5_proteins = protein_differential.nlargest(5).index.tolist()\n",
    "\n",
    "print(\"Top 5 differentially expressed proteins: \", top5_proteins)"
   ]
  },
  {
   "cell_type": "markdown",
   "id": "61f45ee1-8beb-4e72-aeef-4206b5b4a5f0",
   "metadata": {},
   "source": [
    "###### RNA data"
   ]
  },
  {
   "cell_type": "code",
   "execution_count": 240,
   "id": "ef743668-28dc-4063-b999-46fccb4648ee",
   "metadata": {},
   "outputs": [],
   "source": [
    "# Gathers the filtered rna data and log scales the rna data\n",
    "\n",
    "rna_data_13 = rna_data.loc[patient_ids_13]\n",
    "rna_data_13 = np.log2(rna_data_13 + 1)"
   ]
  },
  {
   "cell_type": "code",
   "execution_count": 241,
   "id": "5f6e235e-1bad-4afb-bcb3-eb7fb774846b",
   "metadata": {},
   "outputs": [],
   "source": [
    "rna_data_stage1 = rna_data_13.loc[clinical_data['tumor_stage_pathological'] == 'Stage I']\n",
    "rna_data_stage3 = rna_data_13.loc[clinical_data['tumor_stage_pathological'] == 'Stage III']"
   ]
  },
  {
   "cell_type": "code",
   "execution_count": 242,
   "id": "0fb634fe-0baa-443e-a2fc-10ab72d6eeb0",
   "metadata": {},
   "outputs": [],
   "source": [
    "rna_data_stage1_means = rna_data_stage1.mean()\n",
    "rna_data_stage3_means = rna_data_stage3.mean()"
   ]
  },
  {
   "cell_type": "code",
   "execution_count": 243,
   "id": "3c51d9c7-0238-499f-9c4c-136cd050d194",
   "metadata": {},
   "outputs": [
    {
     "name": "stdout",
     "output_type": "stream",
     "text": [
      "Top 4 differentially expressed RNA:  ['SAA1', 'FGG', 'IL20RB', 'FGA', 'DPEP1']\n"
     ]
    }
   ],
   "source": [
    "rna_differential = (rna_data_stage1_means - rna_data_stage3_means).abs()\n",
    "top5_rna = rna_differential.nlargest(5).index.tolist()\n",
    "\n",
    "print(\"Top 4 differentially expressed RNA: \", top5_rna)"
   ]
  },
  {
   "cell_type": "markdown",
   "id": "1086bf6a-d633-4c02-8973-b1c220dac61e",
   "metadata": {},
   "source": [
    "###### Creation of final dataframe + stage column"
   ]
  },
  {
   "cell_type": "code",
   "execution_count": 244,
   "id": "4f3d1726-7657-40cf-b366-40a040853658",
   "metadata": {},
   "outputs": [],
   "source": [
    "# Mask creation and getting columns from the protein_data and rna_data\n",
    "# The columns we get are the top 5 protein/rna values\n",
    "stage1and3 = clinical_data[clinical_data['tumor_stage_pathological'].isin(['Stage I', 'Stage III'])]\n",
    "\n",
    "protein_data_final = protein_data[top5_proteins]\n",
    "rna_data_final = rna_data[top5_rna]\n",
    "\n",
    "# Concatenation of protein and rna data along with imputation using median for NaN values\n",
    "combined_features = pd.concat([protein_data_final, rna_data_final], axis = 1)\n",
    "combined_features.fillna(combined_features.median(), inplace = True)\n",
    "# Adding the final_data columns and the stage column\n",
    "final_data = combined_features.join(clinical_data['tumor_stage_pathological'])\n",
    "final_data.rename(columns = {'tumor_stage_pathological': 'Stage'}, inplace = True)\n",
    "\n",
    "# I know we are supposed to use lists, but I personally wanted everything to be together\n",
    "# for organization's case."
   ]
  },
  {
   "cell_type": "markdown",
   "id": "c71962d5-dad3-4a9a-b382-78e092889359",
   "metadata": {},
   "source": [
    "###### Encoding and scaling of features"
   ]
  },
  {
   "cell_type": "code",
   "execution_count": 245,
   "id": "00fa7245-cfce-464a-bca9-182f1ab89c55",
   "metadata": {},
   "outputs": [
    {
     "data": {
      "text/html": [
       "<div>\n",
       "<style scoped>\n",
       "    .dataframe tbody tr th:only-of-type {\n",
       "        vertical-align: middle;\n",
       "    }\n",
       "\n",
       "    .dataframe tbody tr th {\n",
       "        vertical-align: top;\n",
       "    }\n",
       "\n",
       "    .dataframe thead th {\n",
       "        text-align: right;\n",
       "    }\n",
       "</style>\n",
       "<table border=\"1\" class=\"dataframe\">\n",
       "  <thead>\n",
       "    <tr style=\"text-align: right;\">\n",
       "      <th></th>\n",
       "      <th>LDB3</th>\n",
       "      <th>LDB3</th>\n",
       "      <th>LDB3</th>\n",
       "      <th>BTBD7</th>\n",
       "      <th>GDF6</th>\n",
       "      <th>COX4I2</th>\n",
       "      <th>SNCB</th>\n",
       "      <th>SAA1</th>\n",
       "      <th>FGG</th>\n",
       "      <th>IL20RB</th>\n",
       "      <th>FGA</th>\n",
       "      <th>DPEP1</th>\n",
       "      <th>Stage</th>\n",
       "    </tr>\n",
       "    <tr>\n",
       "      <th>Patient_ID</th>\n",
       "      <th></th>\n",
       "      <th></th>\n",
       "      <th></th>\n",
       "      <th></th>\n",
       "      <th></th>\n",
       "      <th></th>\n",
       "      <th></th>\n",
       "      <th></th>\n",
       "      <th></th>\n",
       "      <th></th>\n",
       "      <th></th>\n",
       "      <th></th>\n",
       "      <th></th>\n",
       "    </tr>\n",
       "  </thead>\n",
       "  <tbody>\n",
       "    <tr>\n",
       "      <th>C3L-00004</th>\n",
       "      <td>-0.077437</td>\n",
       "      <td>-0.077437</td>\n",
       "      <td>-0.374673</td>\n",
       "      <td>-1.823736</td>\n",
       "      <td>-0.051074</td>\n",
       "      <td>-0.079757</td>\n",
       "      <td>0.250234</td>\n",
       "      <td>1.950050</td>\n",
       "      <td>0.648374</td>\n",
       "      <td>6.434866</td>\n",
       "      <td>2.808154</td>\n",
       "      <td>0.423428</td>\n",
       "      <td>Stage III</td>\n",
       "    </tr>\n",
       "    <tr>\n",
       "      <th>C3L-00010</th>\n",
       "      <td>-0.077437</td>\n",
       "      <td>-0.077437</td>\n",
       "      <td>-0.802613</td>\n",
       "      <td>-1.823736</td>\n",
       "      <td>-0.051074</td>\n",
       "      <td>-0.079757</td>\n",
       "      <td>0.250234</td>\n",
       "      <td>1.468143</td>\n",
       "      <td>0.033347</td>\n",
       "      <td>1.314524</td>\n",
       "      <td>0.124209</td>\n",
       "      <td>22.874116</td>\n",
       "      <td>Stage I</td>\n",
       "    </tr>\n",
       "    <tr>\n",
       "      <th>C3L-00011</th>\n",
       "      <td>-0.077437</td>\n",
       "      <td>-0.077437</td>\n",
       "      <td>-1.215860</td>\n",
       "      <td>-1.823736</td>\n",
       "      <td>-0.051074</td>\n",
       "      <td>-0.079757</td>\n",
       "      <td>0.250234</td>\n",
       "      <td>12.636296</td>\n",
       "      <td>150.929169</td>\n",
       "      <td>40.215020</td>\n",
       "      <td>49.302256</td>\n",
       "      <td>0.257918</td>\n",
       "      <td>Stage IV</td>\n",
       "    </tr>\n",
       "    <tr>\n",
       "      <th>C3L-00026</th>\n",
       "      <td>-0.077437</td>\n",
       "      <td>-0.077437</td>\n",
       "      <td>-0.002303</td>\n",
       "      <td>-1.823736</td>\n",
       "      <td>-0.051074</td>\n",
       "      <td>-0.079757</td>\n",
       "      <td>0.250234</td>\n",
       "      <td>0.271053</td>\n",
       "      <td>0.184699</td>\n",
       "      <td>2.203213</td>\n",
       "      <td>0.209662</td>\n",
       "      <td>24.854416</td>\n",
       "      <td>Stage I</td>\n",
       "    </tr>\n",
       "    <tr>\n",
       "      <th>C3L-00079</th>\n",
       "      <td>-0.077437</td>\n",
       "      <td>-0.077437</td>\n",
       "      <td>-1.696459</td>\n",
       "      <td>-1.978903</td>\n",
       "      <td>1.831929</td>\n",
       "      <td>-0.079757</td>\n",
       "      <td>0.250234</td>\n",
       "      <td>7.418851</td>\n",
       "      <td>0.165071</td>\n",
       "      <td>1.357986</td>\n",
       "      <td>0.065876</td>\n",
       "      <td>1.297931</td>\n",
       "      <td>Stage III</td>\n",
       "    </tr>\n",
       "    <tr>\n",
       "      <th>...</th>\n",
       "      <td>...</td>\n",
       "      <td>...</td>\n",
       "      <td>...</td>\n",
       "      <td>...</td>\n",
       "      <td>...</td>\n",
       "      <td>...</td>\n",
       "      <td>...</td>\n",
       "      <td>...</td>\n",
       "      <td>...</td>\n",
       "      <td>...</td>\n",
       "      <td>...</td>\n",
       "      <td>...</td>\n",
       "      <td>...</td>\n",
       "    </tr>\n",
       "    <tr>\n",
       "      <th>C3N-01646.N</th>\n",
       "      <td>-0.077437</td>\n",
       "      <td>0.803529</td>\n",
       "      <td>0.897684</td>\n",
       "      <td>-1.823736</td>\n",
       "      <td>-0.051074</td>\n",
       "      <td>-0.079757</td>\n",
       "      <td>0.250234</td>\n",
       "      <td>0.401329</td>\n",
       "      <td>0.064823</td>\n",
       "      <td>0.449951</td>\n",
       "      <td>0.232824</td>\n",
       "      <td>87.758048</td>\n",
       "      <td>NaN</td>\n",
       "    </tr>\n",
       "    <tr>\n",
       "      <th>C3N-01648.N</th>\n",
       "      <td>-0.077437</td>\n",
       "      <td>-0.077437</td>\n",
       "      <td>1.201632</td>\n",
       "      <td>-1.823736</td>\n",
       "      <td>-0.051074</td>\n",
       "      <td>-0.079757</td>\n",
       "      <td>0.250234</td>\n",
       "      <td>1.882143</td>\n",
       "      <td>0.386614</td>\n",
       "      <td>0.642226</td>\n",
       "      <td>0.514296</td>\n",
       "      <td>268.328861</td>\n",
       "      <td>NaN</td>\n",
       "    </tr>\n",
       "    <tr>\n",
       "      <th>C3N-01649.N</th>\n",
       "      <td>-0.077437</td>\n",
       "      <td>-0.077437</td>\n",
       "      <td>0.181077</td>\n",
       "      <td>-1.823736</td>\n",
       "      <td>-0.051074</td>\n",
       "      <td>-0.079757</td>\n",
       "      <td>0.250234</td>\n",
       "      <td>3.726070</td>\n",
       "      <td>0.039061</td>\n",
       "      <td>0.227620</td>\n",
       "      <td>0.983810</td>\n",
       "      <td>200.675947</td>\n",
       "      <td>NaN</td>\n",
       "    </tr>\n",
       "    <tr>\n",
       "      <th>C3N-01651.N</th>\n",
       "      <td>-0.077437</td>\n",
       "      <td>-0.077437</td>\n",
       "      <td>0.376318</td>\n",
       "      <td>-1.823736</td>\n",
       "      <td>-0.051074</td>\n",
       "      <td>-0.362112</td>\n",
       "      <td>0.250234</td>\n",
       "      <td>1.636172</td>\n",
       "      <td>0.630656</td>\n",
       "      <td>0.444703</td>\n",
       "      <td>2.023031</td>\n",
       "      <td>390.729888</td>\n",
       "      <td>NaN</td>\n",
       "    </tr>\n",
       "    <tr>\n",
       "      <th>C3N-01808.N</th>\n",
       "      <td>-0.077437</td>\n",
       "      <td>-0.077437</td>\n",
       "      <td>1.098890</td>\n",
       "      <td>-1.823736</td>\n",
       "      <td>-0.051074</td>\n",
       "      <td>-0.079757</td>\n",
       "      <td>0.250234</td>\n",
       "      <td>0.136620</td>\n",
       "      <td>0.037238</td>\n",
       "      <td>0.293579</td>\n",
       "      <td>0.145305</td>\n",
       "      <td>692.559944</td>\n",
       "      <td>NaN</td>\n",
       "    </tr>\n",
       "  </tbody>\n",
       "</table>\n",
       "<p>194 rows × 13 columns</p>\n",
       "</div>"
      ],
      "text/plain": [
       "                 LDB3      LDB3      LDB3     BTBD7      GDF6    COX4I2  \\\n",
       "Patient_ID                                                                \n",
       "C3L-00004   -0.077437 -0.077437 -0.374673 -1.823736 -0.051074 -0.079757   \n",
       "C3L-00010   -0.077437 -0.077437 -0.802613 -1.823736 -0.051074 -0.079757   \n",
       "C3L-00011   -0.077437 -0.077437 -1.215860 -1.823736 -0.051074 -0.079757   \n",
       "C3L-00026   -0.077437 -0.077437 -0.002303 -1.823736 -0.051074 -0.079757   \n",
       "C3L-00079   -0.077437 -0.077437 -1.696459 -1.978903  1.831929 -0.079757   \n",
       "...               ...       ...       ...       ...       ...       ...   \n",
       "C3N-01646.N -0.077437  0.803529  0.897684 -1.823736 -0.051074 -0.079757   \n",
       "C3N-01648.N -0.077437 -0.077437  1.201632 -1.823736 -0.051074 -0.079757   \n",
       "C3N-01649.N -0.077437 -0.077437  0.181077 -1.823736 -0.051074 -0.079757   \n",
       "C3N-01651.N -0.077437 -0.077437  0.376318 -1.823736 -0.051074 -0.362112   \n",
       "C3N-01808.N -0.077437 -0.077437  1.098890 -1.823736 -0.051074 -0.079757   \n",
       "\n",
       "                 SNCB       SAA1         FGG     IL20RB        FGA  \\\n",
       "Patient_ID                                                           \n",
       "C3L-00004    0.250234   1.950050    0.648374   6.434866   2.808154   \n",
       "C3L-00010    0.250234   1.468143    0.033347   1.314524   0.124209   \n",
       "C3L-00011    0.250234  12.636296  150.929169  40.215020  49.302256   \n",
       "C3L-00026    0.250234   0.271053    0.184699   2.203213   0.209662   \n",
       "C3L-00079    0.250234   7.418851    0.165071   1.357986   0.065876   \n",
       "...               ...        ...         ...        ...        ...   \n",
       "C3N-01646.N  0.250234   0.401329    0.064823   0.449951   0.232824   \n",
       "C3N-01648.N  0.250234   1.882143    0.386614   0.642226   0.514296   \n",
       "C3N-01649.N  0.250234   3.726070    0.039061   0.227620   0.983810   \n",
       "C3N-01651.N  0.250234   1.636172    0.630656   0.444703   2.023031   \n",
       "C3N-01808.N  0.250234   0.136620    0.037238   0.293579   0.145305   \n",
       "\n",
       "                  DPEP1      Stage  \n",
       "Patient_ID                          \n",
       "C3L-00004      0.423428  Stage III  \n",
       "C3L-00010     22.874116    Stage I  \n",
       "C3L-00011      0.257918   Stage IV  \n",
       "C3L-00026     24.854416    Stage I  \n",
       "C3L-00079      1.297931  Stage III  \n",
       "...                 ...        ...  \n",
       "C3N-01646.N   87.758048        NaN  \n",
       "C3N-01648.N  268.328861        NaN  \n",
       "C3N-01649.N  200.675947        NaN  \n",
       "C3N-01651.N  390.729888        NaN  \n",
       "C3N-01808.N  692.559944        NaN  \n",
       "\n",
       "[194 rows x 13 columns]"
      ]
     },
     "execution_count": 245,
     "metadata": {},
     "output_type": "execute_result"
    }
   ],
   "source": [
    "final_data"
   ]
  },
  {
   "cell_type": "code",
   "execution_count": 246,
   "id": "54fa0355-cb38-41e5-b196-b5368d00e5a8",
   "metadata": {},
   "outputs": [],
   "source": [
    "from sklearn.preprocessing import StandardScaler\n",
    "\n",
    "numerical_features = final_data.columns.drop('Stage')\n",
    "scaler = StandardScaler()\n",
    "final_data[numerical_features] = scaler.fit_transform(final_data[numerical_features])\n",
    "\n",
    "if 'Stage' in final_data.columns:\n",
    "    most_common_stage = final_data['Stage'].mode()[0]\n",
    "    final_data['Stage'].fillna(most_common_stage, inplace=True)\n",
    "\n",
    "final_data.dropna(subset=['Stage'], inplace=True)\n",
    "\n",
    "#final_data = pd.get_dummies(final_data, columns = ['Stage'])"
   ]
  },
  {
   "cell_type": "markdown",
   "id": "39540bc2-6c92-478d-8dab-547f252b7d8e",
   "metadata": {},
   "source": [
    "###### Splitting data"
   ]
  },
  {
   "cell_type": "code",
   "execution_count": 247,
   "id": "9d871264-5464-4a61-bff5-658c4d57b2e5",
   "metadata": {},
   "outputs": [],
   "source": [
    "from sklearn.model_selection import train_test_split\n",
    "\n",
    "X = final_data.drop('Stage', axis = 1)\n",
    "y = final_data['Stage']\n",
    "\n",
    "X_train, X_test, y_train, y_test = train_test_split(X, y, train_size = 0.7, random_state = 42)"
   ]
  },
  {
   "cell_type": "markdown",
   "id": "52c06eca-5a65-4fed-94ab-10fd9340d073",
   "metadata": {},
   "source": [
    "###### ML Models"
   ]
  },
  {
   "cell_type": "code",
   "execution_count": 248,
   "id": "0ae66742-5812-48cc-abd1-87397c69f2b6",
   "metadata": {},
   "outputs": [
    {
     "name": "stdout",
     "output_type": "stream",
     "text": [
      "KNeighborsClassifier: 0.7050847457627119\n",
      "DecisionTreeClassifier: 0.6372881355932203\n",
      "MLPClassifier: 0.6610169491525424\n",
      "GaussianNB: 0.43728813559322033\n"
     ]
    }
   ],
   "source": [
    "from sklearn.neighbors import KNeighborsClassifier\n",
    "from sklearn.tree import DecisionTreeClassifier\n",
    "from sklearn.neural_network import MLPClassifier\n",
    "from sklearn.naive_bayes import GaussianNB\n",
    "from sklearn.metrics import accuracy_score\n",
    "import warnings\n",
    "\n",
    "warnings.filterwarnings(\"ignore\")\n",
    "\n",
    "models = {\n",
    "    \"KNeighborsClassifier\": KNeighborsClassifier(),\n",
    "    \"DecisionTreeClassifier\": DecisionTreeClassifier(),\n",
    "    \"MLPClassifier\": MLPClassifier(max_iter = 1000), \n",
    "    \"GaussianNB\": GaussianNB()\n",
    "}\n",
    "\n",
    "accuracies = {model: [] for model in models}\n",
    "\n",
    "for _ in range(10):\n",
    "    for model_name, model in models.items():\n",
    "        X_train, X_test, y_train, y_test = train_test_split(X, y, train_size = 0.7)\n",
    "        model.fit(X_train, y_train)\n",
    "        y_pred = model.predict(X_test)\n",
    "        accuracy = accuracy_score(y_test, y_pred)\n",
    "        accuracies[model_name].append(accuracy)\n",
    "\n",
    "mean_accuracies = {model: np.mean(accuracies[model]) for model in models}\n",
    "\n",
    "for model, accuracy in mean_accuracies.items():\n",
    "    print(f\"{model}: {accuracy}\")"
   ]
  },
  {
   "cell_type": "markdown",
   "id": "86a97e9a-e0ae-42d2-acc2-fd92bae22314",
   "metadata": {},
   "source": [
    "#### Based on the results, the KNN model performed the best"
   ]
  }
 ],
 "metadata": {
  "kernelspec": {
   "display_name": "Python [conda env:qbio_490_amansharma]",
   "language": "python",
   "name": "conda-env-qbio_490_amansharma-py"
  },
  "language_info": {
   "codemirror_mode": {
    "name": "ipython",
    "version": 3
   },
   "file_extension": ".py",
   "mimetype": "text/x-python",
   "name": "python",
   "nbconvert_exporter": "python",
   "pygments_lexer": "ipython3",
   "version": "3.9.18"
  }
 },
 "nbformat": 4,
 "nbformat_minor": 5
}
